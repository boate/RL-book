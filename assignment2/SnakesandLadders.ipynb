{
 "cells": [
  {
   "cell_type": "markdown",
   "metadata": {},
   "source": [
    "# Snakes and Ladders"
   ]
  },
  {
   "cell_type": "code",
   "execution_count": 1,
   "metadata": {},
   "outputs": [],
   "source": [
    "import sys\n",
    "sys.path.append('../')\n",
    "\n",
    "from dataclasses import dataclass\n",
    "from typing import Mapping, Dict\n",
    "from rl.distribution import Categorical\n",
    "from rl.markov_process import Transition, FiniteMarkovProcess\n",
    "\n",
    "import numpy as np\n",
    "import seaborn as sns"
   ]
  },
  {
   "cell_type": "code",
   "execution_count": 2,
   "metadata": {},
   "outputs": [],
   "source": [
    "@dataclass(frozen=True)\n",
    "class BoardPositionState:\n",
    "    # check that at most one of the above is true\n",
    "    state_num: int\n",
    "    \n",
    "    \n",
    "class SnakesLaddersMPFinite(FiniteMarkovProcess[BoardPositionState]):\n",
    "    \n",
    "    def __init__(\n",
    "        self,\n",
    "        snake_ladder_states,\n",
    "    ):\n",
    "        self.snl_states: Mapping[int, int] = snake_ladder_states\n",
    "        self.near_end_states: set() = {95, 96, 97, 99}\n",
    "        \n",
    "        super().__init__(self.get_transition_map())\n",
    "    \n",
    "    def endprobs(self, state_num) -> Mapping[BoardPositionState, float]:\n",
    "        \"\"\"Convert from a state near the end to a transition probability\"\"\"\n",
    "        state_probs_map: Mapping[BoardPositionState, float] = {}\n",
    "        probs_map: Mapping[int, float] = {}\n",
    "            \n",
    "        for k in range(1,7):\n",
    "            if k <= (100 - state_num):\n",
    "                nextstate = state_num + k\n",
    "                if nextstate not in probs_map:\n",
    "                    probs_map[nextstate] = 1.0/6.0\n",
    "                else:\n",
    "                    probs_map[nextstate] += 1.0/6.0\n",
    "            else:\n",
    "                nextstate = 100 - (state_num + k - 100)\n",
    "                if nextstate not in probs_map:\n",
    "                    probs_map[nextstate] = 1.0/6.0\n",
    "                else:\n",
    "                    probs_map[nextstate] += 1.0/6.0\n",
    "        print(state_num, probs_map)\n",
    "        for state in probs_map.keys():\n",
    "            state_probs_map[BoardPositionState(state)] = probs_map[state]\n",
    "            \n",
    "        return state_probs_map\n",
    "    \n",
    "    def get_transition_map(self) -> Transition[BoardPositionState]:\n",
    "        d: Dict[BoardPositionState, Categorical[BoardPositionState]] = {}\n",
    "        \n",
    "        # iterate over the normal states to construct their probabilities\n",
    "        for statenum in range(1, 100):\n",
    "            snl = statenum in self.snl_states\n",
    "            near_end = statenum in self.near_end_states\n",
    "            state = BoardPositionState(statenum)\n",
    "                \n",
    "            # is this a special state?\n",
    "            if snl:\n",
    "                realstatenum = self.snl_states[statenum]\n",
    "            else:\n",
    "                realstatenum = statenum\n",
    "            \n",
    "            # is this a normal state?\n",
    "            if not near_end:\n",
    "                # use real state number to determine probs\n",
    "                state_probs_map: Mapping[BoardPositionState, float] = {\n",
    "                    BoardPositionState(realstatenum + k): 1.0/6.0 for k in range(1,7)\n",
    "                }\n",
    "            else:\n",
    "                state_probs_map: Mapping[BoardPositionState, float] = \\\n",
    "                    self.endprobs(realstatenum)\n",
    "            d[BoardPositionState(statenum)] = Categorical(state_probs_map)\n",
    "        \n",
    "        # Winning Absorbing State\n",
    "        d[BoardPositionState(100)] = Categorical({BoardPositionState(100): 1.0})\n",
    "        return d            "
   ]
  },
  {
   "cell_type": "code",
   "execution_count": 3,
   "metadata": {},
   "outputs": [
    {
     "name": "stdout",
     "output_type": "stream",
     "text": [
      "95 {96: 0.16666666666666666, 97: 0.16666666666666666, 98: 0.16666666666666666, 99: 0.3333333333333333, 100: 0.16666666666666666}\n",
      "96 {97: 0.16666666666666666, 98: 0.3333333333333333, 99: 0.3333333333333333, 100: 0.16666666666666666}\n",
      "97 {98: 0.3333333333333333, 99: 0.3333333333333333, 100: 0.16666666666666666, 97: 0.16666666666666666}\n",
      "99 {100: 0.16666666666666666, 99: 0.16666666666666666, 98: 0.16666666666666666, 97: 0.16666666666666666, 96: 0.16666666666666666, 95: 0.16666666666666666}\n",
      "{BoardPositionState(state_num=31): 0.0,\n",
      " BoardPositionState(state_num=30): 0.0,\n",
      " BoardPositionState(state_num=2): 0.0,\n",
      " BoardPositionState(state_num=1): 0.0,\n",
      " BoardPositionState(state_num=3): 0.0,\n",
      " BoardPositionState(state_num=5): 0.0,\n",
      " BoardPositionState(state_num=4): 0.0,\n",
      " BoardPositionState(state_num=6): 0.0,\n",
      " BoardPositionState(state_num=7): 0.0,\n",
      " BoardPositionState(state_num=8): 0.0,\n",
      " BoardPositionState(state_num=9): 0.0,\n",
      " BoardPositionState(state_num=10): 0.0,\n",
      " BoardPositionState(state_num=11): 0.0,\n",
      " BoardPositionState(state_num=20): 0.0,\n",
      " BoardPositionState(state_num=21): 0.0,\n",
      " BoardPositionState(state_num=22): 0.0,\n",
      " BoardPositionState(state_num=23): 0.0,\n",
      " BoardPositionState(state_num=24): 0.0,\n",
      " BoardPositionState(state_num=25): 0.0,\n",
      " BoardPositionState(state_num=26): 0.0,\n",
      " BoardPositionState(state_num=27): 0.0,\n",
      " BoardPositionState(state_num=28): 0.0,\n",
      " BoardPositionState(state_num=29): 0.0,\n",
      " BoardPositionState(state_num=32): 0.0,\n",
      " BoardPositionState(state_num=33): 0.0,\n",
      " BoardPositionState(state_num=34): 0.0,\n",
      " BoardPositionState(state_num=35): 0.0,\n",
      " BoardPositionState(state_num=36): 0.0,\n",
      " BoardPositionState(state_num=12): 0.0,\n",
      " BoardPositionState(state_num=13): 0.0,\n",
      " BoardPositionState(state_num=14): 0.0,\n",
      " BoardPositionState(state_num=15): 0.0,\n",
      " BoardPositionState(state_num=16): 0.0,\n",
      " BoardPositionState(state_num=17): 0.0,\n",
      " BoardPositionState(state_num=18): 0.0,\n",
      " BoardPositionState(state_num=19): 0.0,\n",
      " BoardPositionState(state_num=45): 0.0,\n",
      " BoardPositionState(state_num=46): 0.0,\n",
      " BoardPositionState(state_num=47): 0.0,\n",
      " BoardPositionState(state_num=48): 0.0,\n",
      " BoardPositionState(state_num=49): 0.0,\n",
      " BoardPositionState(state_num=50): 0.0,\n",
      " BoardPositionState(state_num=51): 0.0,\n",
      " BoardPositionState(state_num=52): 0.0,\n",
      " BoardPositionState(state_num=37): 0.0,\n",
      " BoardPositionState(state_num=38): 0.0,\n",
      " BoardPositionState(state_num=39): 0.0,\n",
      " BoardPositionState(state_num=40): 0.0,\n",
      " BoardPositionState(state_num=41): 0.0,\n",
      " BoardPositionState(state_num=42): 0.0,\n",
      " BoardPositionState(state_num=43): 0.0,\n",
      " BoardPositionState(state_num=44): 0.0,\n",
      " BoardPositionState(state_num=53): 0.0,\n",
      " BoardPositionState(state_num=54): 0.0,\n",
      " BoardPositionState(state_num=55): 0.0,\n",
      " BoardPositionState(state_num=56): 0.0,\n",
      " BoardPositionState(state_num=57): 0.0,\n",
      " BoardPositionState(state_num=58): 0.0,\n",
      " BoardPositionState(state_num=59): 0.0,\n",
      " BoardPositionState(state_num=60): 0.0,\n",
      " BoardPositionState(state_num=61): 0.0,\n",
      " BoardPositionState(state_num=62): 0.0,\n",
      " BoardPositionState(state_num=63): 0.0,\n",
      " BoardPositionState(state_num=64): 0.0,\n",
      " BoardPositionState(state_num=65): 0.0,\n",
      " BoardPositionState(state_num=66): 0.0,\n",
      " BoardPositionState(state_num=67): 0.0,\n",
      " BoardPositionState(state_num=68): 0.0,\n",
      " BoardPositionState(state_num=69): 0.0,\n",
      " BoardPositionState(state_num=70): 0.0,\n",
      " BoardPositionState(state_num=71): 0.0,\n",
      " BoardPositionState(state_num=72): 0.0,\n",
      " BoardPositionState(state_num=73): 0.0,\n",
      " BoardPositionState(state_num=74): 0.0,\n",
      " BoardPositionState(state_num=75): 0.0,\n",
      " BoardPositionState(state_num=76): 0.0,\n",
      " BoardPositionState(state_num=77): 0.0,\n",
      " BoardPositionState(state_num=78): 0.0,\n",
      " BoardPositionState(state_num=79): 0.0,\n",
      " BoardPositionState(state_num=80): 0.0,\n",
      " BoardPositionState(state_num=81): 0.0,\n",
      " BoardPositionState(state_num=82): 0.0,\n",
      " BoardPositionState(state_num=83): 0.0,\n",
      " BoardPositionState(state_num=84): 0.0,\n",
      " BoardPositionState(state_num=85): 0.0,\n",
      " BoardPositionState(state_num=86): 0.0,\n",
      " BoardPositionState(state_num=87): 0.0,\n",
      " BoardPositionState(state_num=88): 0.0,\n",
      " BoardPositionState(state_num=89): 0.0,\n",
      " BoardPositionState(state_num=90): 0.0,\n",
      " BoardPositionState(state_num=91): 0.0,\n",
      " BoardPositionState(state_num=92): 0.0,\n",
      " BoardPositionState(state_num=93): 0.0,\n",
      " BoardPositionState(state_num=94): 0.0,\n",
      " BoardPositionState(state_num=95): 0.0,\n",
      " BoardPositionState(state_num=96): 0.0,\n",
      " BoardPositionState(state_num=97): 0.0,\n",
      " BoardPositionState(state_num=98): 0.0,\n",
      " BoardPositionState(state_num=99): 0.0,\n",
      " BoardPositionState(state_num=100): 1.0}\n"
     ]
    }
   ],
   "source": [
    "snl_states = {98: 54, 94: 42, 82: 63, 88: 50, 76: 37, 70:34, 65:14, 53:17, 49: 8, 38:1,\n",
    "              3: 39, 7:48, 12:51, 20:41, 25:57, 28:35, 45:74, 60:85, 67:90, 69:92}\n",
    "snl_mp = SnakesLaddersMPFinite(snl_states)\n",
    "\n",
    "# print(\"Transition Map\")\n",
    "# print(\"--------------\")\n",
    "# print(snl_mp)\n",
    "\n",
    "# print(\"Stationary Distribution\")\n",
    "# print(\"-----------------------\")\n",
    "\n",
    "# should be 1.0 in state 100 because it is an absorbing MarkovChain\n",
    "snl_mp.display_stationary_distribution()\n",
    "\n",
    "# Starting Distribution\n",
    "start_dist_map: Mapping[BoardPositionState, float] = {\n",
    "                    BoardPositionState(k): 1.0/6.0 for k in range(1,7)\n",
    "                }\n",
    "start_dist = Categorical(start_dist_map)"
   ]
  },
  {
   "cell_type": "code",
   "execution_count": 4,
   "metadata": {},
   "outputs": [
    {
     "name": "stdout",
     "output_type": "stream",
     "text": [
      "BoardPositionState(state_num=3)\n",
      "BoardPositionState(state_num=45)\n",
      "BoardPositionState(state_num=80)\n",
      "BoardPositionState(state_num=91)\n",
      "BoardPositionState(state_num=95)\n",
      "BoardPositionState(state_num=98)\n",
      "BoardPositionState(state_num=87)\n",
      "BoardPositionState(state_num=96)\n",
      "BoardPositionState(state_num=99)\n",
      "BoardPositionState(state_num=99)\n",
      "BoardPositionState(state_num=98)\n",
      "BoardPositionState(state_num=91)\n",
      "BoardPositionState(state_num=99)\n",
      "BoardPositionState(state_num=100)\n"
     ]
    }
   ],
   "source": [
    "# simple path tracing example\n",
    "tracer = snl_mp.traces(start_dist)\n",
    "path = []\n",
    "sim = next(tracer)\n",
    "nextstate = BoardPositionState(0)\n",
    "while nextstate.state_num != 100:\n",
    "    nextstate = next(sim)\n",
    "    print(nextstate)\n",
    "    path.append(next(sim))"
   ]
  },
  {
   "cell_type": "code",
   "execution_count": 5,
   "metadata": {},
   "outputs": [],
   "source": [
    "# creating a prob dist of finishing steps\n",
    "pathlengths = []\n",
    "tracer = snl_mp.traces(start_dist)\n",
    "\n",
    "for i in range(1000):\n",
    "    pathlen = 0\n",
    "    sim = next(tracer)\n",
    "    nextstate = BoardPositionState(0)\n",
    "    while nextstate.state_num != 100:\n",
    "        nextstate = next(sim)\n",
    "        pathlen += 1\n",
    "    pathlengths.append(pathlen)"
   ]
  },
  {
   "cell_type": "code",
   "execution_count": 6,
   "metadata": {},
   "outputs": [
    {
     "name": "stderr",
     "output_type": "stream",
     "text": [
      "/Users/bodhinguyen/Code/RL-book/.venv/lib/python3.7/site-packages/seaborn/distributions.py:2557: FutureWarning: `distplot` is a deprecated function and will be removed in a future version. Please adapt your code to use either `displot` (a figure-level function with similar flexibility) or `kdeplot` (an axes-level function for kernel density plots).\n",
      "  warnings.warn(msg, FutureWarning)\n"
     ]
    },
    {
     "data": {
      "text/plain": [
       "<matplotlib.axes._subplots.AxesSubplot at 0x12912d750>"
      ]
     },
     "execution_count": 6,
     "metadata": {},
     "output_type": "execute_result"
    },
    {
     "data": {
      "image/png": "[encoded data removed]",
      "text/plain": [
       "<Figure size 432x288 with 1 Axes>"
      ]
     },
     "metadata": {
      "needs_background": "light"
     },
     "output_type": "display_data"
    }
   ],
   "source": [
    "# Distribution of finishing times\n",
    "sns.distplot(pathlengths, hist = False, kde = True)"
   ]
  },
  {
   "cell_type": "code",
   "execution_count": 7,
   "metadata": {},
   "outputs": [
    {
     "name": "stdout",
     "output_type": "stream",
     "text": [
      "74.303\n",
      "55.0\n"
     ]
    }
   ],
   "source": [
    "# average finishing time and median\n",
    "print(np.mean(pathlengths))\n",
    "print(np.median(pathlengths))"
   ]
  }
 ],
 "metadata": {
  "kernelspec": {
   "display_name": "Python 3",
   "language": "python",
   "name": "python3"
  },
  "language_info": {
   "codemirror_mode": {
    "name": "ipython",
    "version": 3
   },
   "file_extension": ".py",
   "mimetype": "text/x-python",
   "name": "python",
   "nbconvert_exporter": "python",
   "pygments_lexer": "ipython3",
   "version": "3.7.6"
  }
 },
 "nbformat": 4,
 "nbformat_minor": 2
}
