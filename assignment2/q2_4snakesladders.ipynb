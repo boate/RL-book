{
 "cells": [
  {
   "cell_type": "markdown",
   "metadata": {},
   "source": [
    "# Snakes and Ladders"
   ]
  },
  {
   "cell_type": "code",
   "execution_count": 52,
   "metadata": {},
   "outputs": [],
   "source": [
    "import sys\n",
    "sys.path.append('../')\n",
    "\n",
    "from dataclasses import dataclass\n",
    "from typing import Mapping, Tuple, Dict\n",
    "from rl.distribution import Categorical\n",
    "from rl.markov_process import Transition, FiniteMarkovProcess, FiniteMarkovRewardProcess\n",
    "\n",
    "import numpy as np\n",
    "import seaborn as sns"
   ]
  },
  {
   "cell_type": "markdown",
   "metadata": {},
   "source": [
    "# Problem 2"
   ]
  },
  {
   "cell_type": "code",
   "execution_count": 73,
   "metadata": {},
   "outputs": [],
   "source": [
    "@dataclass(frozen=True)\n",
    "class BoardPositionState:\n",
    "    # check that at most one of the above is true\n",
    "    state_num: int\n",
    "    \n",
    "    \n",
    "class SnakesLaddersMPFinite(FiniteMarkovProcess[BoardPositionState]):\n",
    "    \n",
    "    def __init__(\n",
    "        self,\n",
    "        snake_ladder_states,\n",
    "    ):\n",
    "        self.snl_states: Mapping[int, int] = snake_ladder_states\n",
    "        self.near_end_states: set() = {95, 96, 97, 99}\n",
    "        \n",
    "        super().__init__(self.get_transition_map())\n",
    "    \n",
    "    def endprobs(self, state_num) -> Mapping[BoardPositionState, float]:\n",
    "        \"\"\"Convert from a state near the end to a transition probability\"\"\"\n",
    "        state_probs_map: Mapping[BoardPositionState, float] = {}\n",
    "        probs_map: Mapping[int, float] = {}\n",
    "            \n",
    "        for k in range(1,7):\n",
    "            if k <= (100 - state_num):\n",
    "                nextstate = state_num + k\n",
    "                if nextstate not in probs_map:\n",
    "                    probs_map[nextstate] = 1.0/6.0\n",
    "                else:\n",
    "                    probs_map[nextstate] += 1.0/6.0\n",
    "            else:\n",
    "                nextstate = 100 - (state_num + k - 100)\n",
    "                if nextstate not in probs_map:\n",
    "                    probs_map[nextstate] = 1.0/6.0\n",
    "                else:\n",
    "                    probs_map[nextstate] += 1.0/6.0\n",
    "        #print(state_num, probs_map)\n",
    "        for state in probs_map.keys():\n",
    "            state_probs_map[BoardPositionState(state)] = probs_map[state]\n",
    "            \n",
    "        return state_probs_map\n",
    "    \n",
    "    def get_transition_map(self) -> Transition[BoardPositionState]:\n",
    "        d: Dict[BoardPositionState, Categorical[BoardPositionState]] = {}\n",
    "        \n",
    "        # iterate over the normal states to construct their probabilities\n",
    "        for statenum in range(0, 100):\n",
    "            snl = statenum in self.snl_states\n",
    "            near_end = statenum in self.near_end_states\n",
    "            state = BoardPositionState(statenum)\n",
    "                \n",
    "            # is this a special state?\n",
    "            if snl:\n",
    "                realstatenum = self.snl_states[statenum]\n",
    "            else:\n",
    "                realstatenum = statenum\n",
    "            \n",
    "            # is this a normal state?\n",
    "            if not near_end:\n",
    "                # use real state number to determine probs\n",
    "                state_probs_map: Mapping[BoardPositionState, float] = {\n",
    "                    BoardPositionState(realstatenum + k): 1.0/6.0 for k in range(1,7)\n",
    "                }\n",
    "            else:\n",
    "                state_probs_map: Mapping[BoardPositionState, float] = \\\n",
    "                    self.endprobs(realstatenum)\n",
    "            d[BoardPositionState(statenum)] = Categorical(state_probs_map)\n",
    "        \n",
    "        # Winning Absorbing State\n",
    "        d[BoardPositionState(100)] = None\n",
    "        return d            "
   ]
  },
  {
   "cell_type": "code",
   "execution_count": 74,
   "metadata": {},
   "outputs": [],
   "source": [
    "snl_states = {98: 54, 94: 42, 82: 63, 88: 50, 76: 37, 70:34, 65:14, 53:17, 49: 8, 38:1,\n",
    "              3: 39, 7:48, 12:51, 20:41, 25:57, 28:35, 45:74, 60:85, 67:90, 69:92}\n",
    "snl_mp = SnakesLaddersMPFinite(snl_states)\n",
    "#print(snl_mp)\n",
    "# print(\"Transition Map\")\n",
    "# print(\"--------------\")\n",
    "# print(snl_mp)\n",
    "\n",
    "# Starting Distribution\n",
    "start_dist_map: Mapping[BoardPositionState, float] = {\n",
    "                    BoardPositionState(k): 1.0/6.0 for k in range(1,7)\n",
    "                }\n",
    "start_dist = Categorical(start_dist_map)"
   ]
  },
  {
   "cell_type": "code",
   "execution_count": 75,
   "metadata": {},
   "outputs": [
    {
     "name": "stdout",
     "output_type": "stream",
     "text": [
      "[BoardPositionState(state_num=11), BoardPositionState(state_num=19), BoardPositionState(state_num=46), BoardPositionState(state_num=49), BoardPositionState(state_num=57), BoardPositionState(state_num=90), BoardPositionState(state_num=100)]\n"
     ]
    }
   ],
   "source": [
    "# simple path tracing example\n",
    "tracer = snl_mp.traces(start_dist)\n",
    "path = []\n",
    "sim = next(tracer)\n",
    "nextstate = BoardPositionState(0)\n",
    "while True:\n",
    "    try:\n",
    "        nextstate = next(sim)\n",
    "        path.append(next(sim))\n",
    "    except StopIteration:\n",
    "        break\n",
    "print(path)"
   ]
  },
  {
   "cell_type": "code",
   "execution_count": 76,
   "metadata": {},
   "outputs": [],
   "source": [
    "# creating a prob dist of finishing steps\n",
    "pathlengths = []\n",
    "tracer = snl_mp.traces(start_dist)\n",
    "\n",
    "for i in range(1000):\n",
    "    pathlen = 0\n",
    "    sim = next(tracer)\n",
    "    nextstate = BoardPositionState(0)\n",
    "    while True:\n",
    "        try:\n",
    "            nextstate = next(sim)\n",
    "            pathlen += 1\n",
    "        except StopIteration:\n",
    "            break\n",
    "    pathlengths.append(pathlen)"
   ]
  },
  {
   "cell_type": "code",
   "execution_count": 77,
   "metadata": {},
   "outputs": [
    {
     "name": "stderr",
     "output_type": "stream",
     "text": [
      "/Users/bodhinguyen/Code/RL-book/.venv/lib/python3.7/site-packages/seaborn/distributions.py:2557: FutureWarning: `distplot` is a deprecated function and will be removed in a future version. Please adapt your code to use either `displot` (a figure-level function with similar flexibility) or `kdeplot` (an axes-level function for kernel density plots).\n",
      "  warnings.warn(msg, FutureWarning)\n"
     ]
    },
    {
     "data": {
      "text/plain": [
       "<matplotlib.axes._subplots.AxesSubplot at 0x134bfe110>"
      ]
     },
     "execution_count": 77,
     "metadata": {},
     "output_type": "execute_result"
    },
    {
     "data": {
      "image/png": "[encoded data removed]",
      "text/plain": [
       "<Figure size 432x288 with 1 Axes>"
      ]
     },
     "metadata": {
      "needs_background": "light"
     },
     "output_type": "display_data"
    }
   ],
   "source": [
    "# Distribution of finishing times\n",
    "sns.distplot(pathlengths, hist = False, kde = True)"
   ]
  },
  {
   "cell_type": "code",
   "execution_count": 78,
   "metadata": {},
   "outputs": [
    {
     "name": "stdout",
     "output_type": "stream",
     "text": [
      "76.42\n",
      "55.0\n"
     ]
    }
   ],
   "source": [
    "# average finishing time and median\n",
    "print(np.mean(pathlengths))\n",
    "print(np.median(pathlengths))"
   ]
  },
  {
   "cell_type": "markdown",
   "metadata": {},
   "source": [
    "# Problem 4"
   ]
  },
  {
   "cell_type": "code",
   "execution_count": 79,
   "metadata": {},
   "outputs": [],
   "source": [
    "class SnakesLaddersMRPFinite(FiniteMarkovRewardProcess[BoardPositionState]):\n",
    "    \n",
    "    def __init__(\n",
    "        self,\n",
    "        snake_ladder_states,\n",
    "    ):\n",
    "        self.snl_states: Mapping[int, int] = snake_ladder_states\n",
    "        self.near_end_states: set() = {95, 96, 97, 99}\n",
    "        \n",
    "        super().__init__(self.get_transition_reward_map())\n",
    "    \n",
    "    def endprobs(self, state_num) -> Mapping[BoardPositionState, float]:\n",
    "        \"\"\"Convert from a state near the end to a transition probability\"\"\"\n",
    "        state_probs_map: Mapping[BoardPositionState, float] = {}\n",
    "        probs_map: Mapping[int, float] = {}\n",
    "            \n",
    "        for k in range(1,7):\n",
    "            if k <= (100 - state_num):\n",
    "                nextstate = state_num + k\n",
    "                if nextstate not in probs_map:\n",
    "                    probs_map[nextstate] = 1.0/6.0\n",
    "                else:\n",
    "                    probs_map[nextstate] += 1.0/6.0\n",
    "            else:\n",
    "                nextstate = 100 - (state_num + k - 100)\n",
    "                if nextstate not in probs_map:\n",
    "                    probs_map[nextstate] = 1.0/6.0\n",
    "                else:\n",
    "                    probs_map[nextstate] += 1.0/6.0\n",
    "        #print(state_num, probs_map)\n",
    "        for state in probs_map.keys():\n",
    "            state_probs_map[(BoardPositionState(state), 1)] = probs_map[state]\n",
    "            \n",
    "        return state_probs_map\n",
    "    \n",
    "    def get_transition_reward_map(self) -> Transition[BoardPositionState]:\n",
    "        d: Dict[BoardPositionState, Categorical[Tuple[BoardPositionState, float]]] = {}\n",
    "        \n",
    "        # iterate over the normal states to construct their probabilities\n",
    "        for statenum in range(0, 100):\n",
    "            snl = statenum in self.snl_states\n",
    "            near_end = statenum in self.near_end_states\n",
    "            state = BoardPositionState(statenum)\n",
    "                \n",
    "            # is this a special state?\n",
    "            if snl:\n",
    "                realstatenum = self.snl_states[statenum]\n",
    "            else:\n",
    "                realstatenum = statenum\n",
    "            \n",
    "            # is this a normal state?\n",
    "            if not near_end:\n",
    "                # use real state number to determine probs\n",
    "                # use reward of 1 in each state\n",
    "                state_probs_map: Dict[Tuple[BoardPositionState, float], float] = {\n",
    "                    (BoardPositionState(realstatenum + k), 1): 1.0/6.0 for k in range(1,7)\n",
    "                }\n",
    "            else:\n",
    "                state_probs_map: Dict[Tuple[BoardPositionState, float], float] = \\\n",
    "                    self.endprobs(realstatenum)\n",
    "            d[BoardPositionState(statenum)] = Categorical(state_probs_map)\n",
    "        \n",
    "        # Winning Absorbing State\n",
    "        d[BoardPositionState(100)] = None\n",
    "        return d            "
   ]
  },
  {
   "cell_type": "code",
   "execution_count": 80,
   "metadata": {},
   "outputs": [],
   "source": [
    "snl_mrp = SnakesLaddersMRPFinite(snl_states)\n",
    "#print(snl_mrp)"
   ]
  },
  {
   "cell_type": "code",
   "execution_count": 81,
   "metadata": {},
   "outputs": [
    {
     "name": "stdout",
     "output_type": "stream",
     "text": [
      "[BoardPositionState(state_num=10), BoardPositionState(state_num=16), BoardPositionState(state_num=24), BoardPositionState(state_num=34), BoardPositionState(state_num=41), BoardPositionState(state_num=47), BoardPositionState(state_num=50), BoardPositionState(state_num=57), BoardPositionState(state_num=89), BoardPositionState(state_num=93), BoardPositionState(state_num=99), BoardPositionState(state_num=99), BoardPositionState(state_num=97), BoardPositionState(state_num=97), BoardPositionState(state_num=100)]\n"
     ]
    }
   ],
   "source": [
    "# simple path tracing example\n",
    "tracer = snl_mrp.traces(start_dist)\n",
    "path = []\n",
    "sim = next(tracer)\n",
    "nextstate = BoardPositionState(0)\n",
    "while True:\n",
    "    try:\n",
    "        nextstate = next(sim)\n",
    "        path.append(next(sim))\n",
    "    except StopIteration:\n",
    "        break\n",
    "print(path)"
   ]
  },
  {
   "cell_type": "code",
   "execution_count": 82,
   "metadata": {},
   "outputs": [
    {
     "name": "stdout",
     "output_type": "stream",
     "text": [
      "Value of State 0: Expected Number of Rolls\n",
      "--------------\n"
     ]
    },
    {
     "data": {
      "text/plain": [
       "73.62067827061108"
      ]
     },
     "execution_count": 82,
     "metadata": {},
     "output_type": "execute_result"
    }
   ],
   "source": [
    "print(\"Value of State 0: Expected Number of Rolls\")\n",
    "print(\"--------------\")\n",
    "snl_mrp.get_value_function_vec(gamma= 1.0)[0]"
   ]
  }
 ],
 "metadata": {
  "kernelspec": {
   "display_name": "Python 3",
   "language": "python",
   "name": "python3"
  },
  "language_info": {
   "codemirror_mode": {
    "name": "ipython",
    "version": 3
   },
   "file_extension": ".py",
   "mimetype": "text/x-python",
   "name": "python",
   "nbconvert_exporter": "python",
   "pygments_lexer": "ipython3",
   "version": "3.7.6"
  }
 },
 "nbformat": 4,
 "nbformat_minor": 2
}
